{
 "cells": [
  {
   "cell_type": "markdown",
   "metadata": {},
   "source": [
    "# **Funciones de Negocio**"
   ]
  },
  {
   "cell_type": "code",
   "execution_count": 2,
   "metadata": {},
   "outputs": [],
   "source": [
    "import pandas as pd"
   ]
  },
  {
   "cell_type": "code",
   "execution_count": 1,
   "metadata": {},
   "outputs": [],
   "source": [
    "# Revisar la cantidad de tipos de datos y valores nulos por cada columna de un dataframe\n",
    "\n",
    "def count_column_types(df):\n",
    "    '''\n",
    "    Obtener los tipos de datos unicos y sus respectivos recuentos para cada columna.\n",
    "    Funcion que recibe como parámetro un dataframe\n",
    "    '''\n",
    "    \n",
    "    result = df.apply(lambda col: col.apply(type) .value_counts())          # Aplicar la función a todas las columnas del DataFrame\n",
    "    result = result.T.reset_index()                                         # Transponer el resultado y restablecer el índice\n",
    "    result. columns = [\"Column\"] + result.columns[1:].tolist()              # Renombrar las columnas\n",
    "\n",
    "    serie_nulos = df.isnull().sum()                                         # Hallamos los valores nulos y se almacenan en una serie\n",
    "    serie_nulos = serie_nulos.reset_index()                                 # Convierte el índice en una columna\n",
    "    serie_nulos.columns = ['Column', 'Nulos']                               # Asigna un nombre a la columna del índice si es necesario\n",
    "\n",
    "    df_1 = result\n",
    "    df_2 = serie_nulos\n",
    "    columna_union = \"Column\"\n",
    "    df_merge = df_1.merge(df_2, on=columna_union, how='left')               # Realizar un left join entre df_userdata y df_games\n",
    "\n",
    "    df_merge[\"Nulos %\"] = round(df_merge[\"Nulos\"] / df.shape[0] * 100, 2)   # Porcentaje total de registros nulos\n",
    "\n",
    "    print(\"\\nfilas completamente nulas: \", df.isna().all(axis=1).sum())     # Filas que se encuentran totalmente en nulo\n",
    "\n",
    "    return df_merge"
   ]
  },
  {
   "cell_type": "markdown",
   "metadata": {},
   "source": [
    "## **1- def userdata**\n",
    "\n",
    "- Entrada: (user_id : str)\n",
    "- Objetivo: Debe devolver cantidad de dinero gastado por el usuario, el porcentaje de recomendación en base a reviews.recommend y cantidad de items."
   ]
  },
  {
   "cell_type": "code",
   "execution_count": null,
   "metadata": {},
   "outputs": [],
   "source": [
    "def userdata (user_id:str):\n",
    "    '''\n",
    "    Función que recibe de entrada el ID de un usuario y devuelve:\n",
    "    - Cantidad total de dinero que ha gastado en items\n",
    "    - Cantidad total de items que posee\n",
    "    - Porcentaje de items que recomienda respecto al total de items que posee.\n",
    "    '''\n",
    "    # Lectura de CSV en un df\n",
    "    ruta = \"eda_userdata.csv\"\n",
    "    df_userdata = pd.read_csv(ruta)\n",
    "\n",
    "    user_id = str(user_id)\n",
    "    user_id = user_id.strip()\n",
    "\n",
    "    df_filtrado = df_userdata[df_userdata[\"user_id\"] == user_id]\n",
    "    mi_dict = df_filtrado.to_dict(orient='records')\n",
    "\n",
    "    return mi_dict[0]"
   ]
  },
  {
   "cell_type": "code",
   "execution_count": null,
   "metadata": {},
   "outputs": [
    {
     "data": {
      "text/plain": [
       "{'user_id': '76561197970982479',\n",
       " 'items_count': 277,\n",
       " 'money_spent': 3424.31,\n",
       " 'total_recommend': 3.0,\n",
       " 'recommend_percent': 1.08}"
      ]
     },
     "metadata": {},
     "output_type": "display_data"
    }
   ],
   "source": [
    "userdata(\"76561197970982479\")"
   ]
  },
  {
   "cell_type": "markdown",
   "metadata": {},
   "source": [
    "## **2- def countreviews**\n",
    "\n",
    "- Entrada: (YYYY-MM-DD : str , YYYY-MM-DD : str)\n",
    "- Objetivo: Cantidad de usuarios que realizaron reviews entre las fechas dadas y, el porcentaje de recomendación de los mismos en base a reviews.recommend."
   ]
  },
  {
   "cell_type": "code",
   "execution_count": 81,
   "metadata": {},
   "outputs": [],
   "source": [
    "def countreviews (desde:str, hasta:str):\n",
    "    '''\n",
    "    Función que recibe dos fechas de entrada en formato YYYY-MM-DD y devuelve:\n",
    "    - Cantidad de usuarios que realizaron reviews entre las fechas dadas\n",
    "    - Porcentaje de items que se recomiendan de acuerdo a todas las reviews que se realizaron entre esas fechas.\n",
    "    '''\n",
    "    # Lectura de CSV en un df\n",
    "    ruta = \"eda_countreviews.csv\"\n",
    "    df_countreviews = pd.read_csv(ruta)\n",
    "\n",
    "    desde = str(desde)\n",
    "    desde = desde.strip().replace(\"-\",\"\")\n",
    "    desde = int(desde)\n",
    "    \n",
    "    hasta = str(hasta)\n",
    "    hasta = hasta.strip().replace(\"-\",\"\")\n",
    "    hasta = int(hasta)\n",
    "\n",
    "    df_filtrado = df_countreviews[(df_countreviews[\"posted_date_num\"] >= desde) &\n",
    "                                    (df_countreviews[\"posted_date_num\"] <= hasta)]\n",
    "\n",
    "    user_count = df_filtrado[\"user_id\"].nunique()\n",
    "    recommend_count = df_filtrado[\"recommend\"].count()\n",
    "    recommend_sum = df_filtrado[\"recommend\"].sum()\n",
    "    recommend_percent = round(recommend_sum / recommend_count *100, 2)\n",
    "\n",
    "    mi_dict = {\"user_count\": user_count, \n",
    "                \"recommend_percent\": recommend_percent\n",
    "                }\n",
    "\n",
    "    return mi_dict"
   ]
  },
  {
   "cell_type": "code",
   "execution_count": 82,
   "metadata": {},
   "outputs": [
    {
     "data": {
      "text/plain": [
       "{'user_count': 34, 'recommend_percent': 97.56}"
      ]
     },
     "execution_count": 82,
     "metadata": {},
     "output_type": "execute_result"
    }
   ],
   "source": [
    "countreviews(\"2011-04-05\", \"2011-06-08\")"
   ]
  },
  {
   "cell_type": "markdown",
   "metadata": {},
   "source": [
    "## **3- def genre**\n",
    "\n",
    "- Entrada: (genero : str)\n",
    "- Objetivo: Devuelve el puesto en el que se encuentra un género sobre el ranking de los mismos analizado bajo la columna PlayTimeForever."
   ]
  },
  {
   "cell_type": "code",
   "execution_count": 199,
   "metadata": {},
   "outputs": [],
   "source": [
    "def genre(genre:str):\n",
    "    '''\n",
    "    Función que recibe de entrada un género de juego y devuelve:\n",
    "    - Lugar que ocupa dicho género en un ranking de todos los géneros de acuerdo al tiempo total de juego para cada género.\n",
    "    \n",
    "    Nota: El género con mayor cantidad de tiempo jugado ocupará la posición #1 del ranking\n",
    "    '''\n",
    "    # Lectura de CSV en un df\n",
    "    ruta = \"eda_genre.csv\"\n",
    "    df_genre = pd.read_csv(ruta)\n",
    "\n",
    "    look_genre = genre.lower().replace(\" \", \"\")\n",
    "\n",
    "    df_filtrado = df_genre[[\"Genre\", \"Ranking\"]][df_genre[\"look_genre\"] == look_genre]\n",
    "    mi_dict = df_filtrado.to_dict(orient='records')\n",
    "\n",
    "    return mi_dict[0]"
   ]
  },
  {
   "cell_type": "code",
   "execution_count": 147,
   "metadata": {},
   "outputs": [
    {
     "data": {
      "text/plain": [
       "{'Genre': 'Indie', 'Ranking': 2}"
      ]
     },
     "execution_count": 147,
     "metadata": {},
     "output_type": "execute_result"
    }
   ],
   "source": [
    "genre(\"indiE\")"
   ]
  },
  {
   "cell_type": "markdown",
   "metadata": {},
   "source": [
    "## **4- def userforgenre**\n",
    "\n",
    "- Entrada: (género : str)\n",
    "- Objetivo: Top 5 de usuarios con más horas de juego en el género dado, con su URL (del user) y user_id."
   ]
  },
  {
   "cell_type": "code",
   "execution_count": 301,
   "metadata": {},
   "outputs": [],
   "source": [
    "def userforgenre(genre:str):\n",
    "    '''\n",
    "    Función que recibe de entrada un género de juego y devuelve:\n",
    "    - Lista de 5 usuarios con mayor cantidad de horas de juego para dicho género.\n",
    "    - URL de cada usuario\n",
    "    \n",
    "    Nota: El usuario con mayor cantidad de tiempo jugado ocupará la posición #1 del ranking\n",
    "    '''\n",
    "    # Lectura de CSV en un df\n",
    "    ruta = \"eda_userforgenre.csv\"\n",
    "    df_userforgenre = pd.read_csv(ruta)\n",
    "\n",
    "    look_genre = genre.lower().replace(\" \", \"\")\n",
    "\n",
    "    df_filtrado = df_userforgenre[[\"ranking\", \"user_id\", \"user_url\"]][df_userforgenre[\"look_genre\"] == look_genre]\n",
    "    mi_list = df_filtrado.to_dict(orient='records')\n",
    "\n",
    "    claves = []\n",
    "    for indice in range (0,5):\n",
    "        valor = \"Ranking_\" + str(indice + 1)\n",
    "        claves.append(valor)\n",
    "\n",
    "    mi_dict = {}\n",
    "\n",
    "    for indice, clave in enumerate(claves):\n",
    "        user_id = df_filtrado['user_id'].iloc[indice]\n",
    "        url_user = df_filtrado[\"user_url\"].iloc[indice]\n",
    "        registro = \"user_id: \" + user_id + \" // url_user: \" + url_user\n",
    "        mi_dict[clave] = registro\n",
    "\n",
    "    return mi_dict"
   ]
  },
  {
   "cell_type": "code",
   "execution_count": 302,
   "metadata": {},
   "outputs": [
    {
     "data": {
      "text/plain": [
       "{'Ranking_1': 'user_id: Sp3ctre // url_user: http://steamcommunity.com/id/Sp3ctre',\n",
       " 'Ranking_2': 'user_id: shinomegami // url_user: http://steamcommunity.com/id/shinomegami',\n",
       " 'Ranking_3': 'user_id: REBAS_AS_F-T // url_user: http://steamcommunity.com/id/REBAS_AS_F-T',\n",
       " 'Ranking_4': 'user_id: Terminally-Chill // url_user: http://steamcommunity.com/id/Terminally-Chill',\n",
       " 'Ranking_5': 'user_id: DownSyndromeKid // url_user: http://steamcommunity.com/id/DownSyndromeKid'}"
      ]
     },
     "execution_count": 302,
     "metadata": {},
     "output_type": "execute_result"
    }
   ],
   "source": [
    "userforgenre(\"action\")"
   ]
  },
  {
   "cell_type": "markdown",
   "metadata": {},
   "source": [
    "## **5- def developer**\n",
    "\n",
    "- Entrada: (desarrollador : str)\n",
    "- Objetivo: Cantidad de items y porcentaje de contenido Free por año según empresa desarrolladora."
   ]
  },
  {
   "cell_type": "code",
   "execution_count": 271,
   "metadata": {},
   "outputs": [],
   "source": [
    "def developer(developer:str):\n",
    "    '''\n",
    "    Función que recibe de entrada el nombre de un desarrollador y devuelve:\n",
    "    - Lista de años en los que el desarrollador hizo lanzamiento de items\n",
    "    - Cantidad de items por año\n",
    "    - Porcentaje de items free respecto al total de items lanzados ese el año\n",
    "    '''\n",
    "    # Lectura de CSV en un df\n",
    "    ruta = \"eda_developer.csv\"\n",
    "    df_developer = pd.read_csv(ruta)\n",
    "\n",
    "    look_developer = developer.lower().replace(\" \", \"\")\n",
    "\n",
    "    df_filtrado = df_developer[[\"release_year\", \"items_count\", \"free_percent\"]][df_developer[\"look_developer\"] == look_developer]\n",
    "    df_filtrado = df_filtrado.reset_index()\n",
    "\n",
    "    lista_claves = df_filtrado['release_year'].tolist()\n",
    "    mi_dict = {}\n",
    "\n",
    "    for indice, clave in enumerate(lista_claves):\n",
    "        items_count = df_filtrado['items_count'].iloc[indice]\n",
    "        free_percent = df_filtrado[\"free_percent\"].iloc[indice]\n",
    "        registro = \"items_count: \" + str(items_count) + \" // free_percent: \" + str(free_percent)\n",
    "        mi_dict[clave] = registro\n",
    "\n",
    "    return mi_dict"
   ]
  },
  {
   "cell_type": "code",
   "execution_count": 272,
   "metadata": {},
   "outputs": [
    {
     "data": {
      "text/plain": [
       "{2015.0: 'items_count: 2 // free_percent: 0.0',\n",
       " 2016.0: 'items_count: 3 // free_percent: 0.0',\n",
       " 2017.0: 'items_count: 3 // free_percent: 0.0'}"
      ]
     },
     "execution_count": 272,
     "metadata": {},
     "output_type": "execute_result"
    }
   ],
   "source": [
    "developer(\"07th Expansion\")"
   ]
  },
  {
   "cell_type": "markdown",
   "metadata": {},
   "source": [
    "## **6- def sentiment_analysis**\n",
    "\n",
    "- Entrada: (año : int)\n",
    "- Objetivo: Según el año de lanzamiento, se devuelve una lista con la cantidad de registros de reseñas de usuarios que se encuentren categorizados con un análisis de sentimiento."
   ]
  },
  {
   "cell_type": "code",
   "execution_count": 308,
   "metadata": {},
   "outputs": [],
   "source": [
    "def sentiment_analysis(year:str):\n",
    "    '''\n",
    "    Función que recibe de entrada un año y devuelve:\n",
    "    - Listado de categorias basadas en el analisis de sentimiento de las reseñas realizadas en ese año de los items\n",
    "    - Cantidad total de reseñas para cada categoría de analisis de sentimiento\n",
    "    '''\n",
    "    # Lectura de CSV en un df\n",
    "    ruta = \"eda_sentiment_analysis.csv\"\n",
    "    df_sentiment_analysis = pd.read_csv(ruta)\n",
    "\n",
    "    year = float(year)\n",
    "\n",
    "    df_filtrado = df_sentiment_analysis[[\"sentiment_label\", \"count\"]][df_sentiment_analysis[\"release_year\"] == year]\n",
    "    df_filtrado = df_filtrado.groupby([\"sentiment_label\"])[\"count\"].sum().reset_index()\n",
    "    mi_dict = df_filtrado.to_dict(orient='records')\n",
    "\n",
    "    lista_claves = df_filtrado['sentiment_label'].tolist()\n",
    "    mi_dict = {}\n",
    "\n",
    "    for indice, clave in enumerate(lista_claves):\n",
    "        mi_dict[clave] = str(df_filtrado[\"count\"].iloc[indice])\n",
    "\n",
    "    return mi_dict"
   ]
  },
  {
   "cell_type": "code",
   "execution_count": 309,
   "metadata": {},
   "outputs": [
    {
     "data": {
      "text/plain": [
       "{'negative': '1', 'positive': '4'}"
      ]
     },
     "execution_count": 309,
     "metadata": {},
     "output_type": "execute_result"
    }
   ],
   "source": [
    "sentiment_analysis(\"1990\")"
   ]
  }
 ],
 "metadata": {
  "kernelspec": {
   "display_name": "Python 3",
   "language": "python",
   "name": "python3"
  },
  "language_info": {
   "codemirror_mode": {
    "name": "ipython",
    "version": 3
   },
   "file_extension": ".py",
   "mimetype": "text/x-python",
   "name": "python",
   "nbconvert_exporter": "python",
   "pygments_lexer": "ipython3",
   "version": "3.11.2"
  },
  "orig_nbformat": 4
 },
 "nbformat": 4,
 "nbformat_minor": 2
}
